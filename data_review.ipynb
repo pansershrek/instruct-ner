{
 "cells": [
  {
   "cell_type": "code",
   "execution_count": 10,
   "id": "dc8e08b4",
   "metadata": {
    "scrolled": true
   },
   "outputs": [],
   "source": [
    "import pandas as pd\n",
    "import numpy as np\n",
    "import spacy\n",
    "import warnings\n",
    "from corus import load_rudrec\n",
    "warnings.filterwarnings(\"ignore\")\n",
    "\n",
    "%load_ext autoreload\n",
    "%autoreload 2"
   ]
  },
  {
   "cell_type": "markdown",
   "id": "186d1210",
   "metadata": {},
   "source": [
    "#### Collate data "
   ]
  },
  {
   "cell_type": "code",
   "execution_count": 2,
   "id": "ad0f2b61",
   "metadata": {},
   "outputs": [],
   "source": [
    "from medner_dataset import MednerDataset"
   ]
  },
  {
   "cell_type": "code",
   "execution_count": 3,
   "id": "63ff43e7",
   "metadata": {},
   "outputs": [],
   "source": [
    "rudrec_path = 'data/rudrec_annotated.json'\n",
    "caws_df_path = 'data/train/train.csv'\n",
    "caws_labels_path = 'data/train/train_labels.json'\n",
    "hand_labeled_caws_df_path = 'data/labeled_by_hand_version_2.json'"
   ]
  },
  {
   "cell_type": "code",
   "execution_count": 4,
   "id": "dd005441",
   "metadata": {},
   "outputs": [],
   "source": [
    "medner_data = MednerDataset(rudrec_path,\n",
    "                            caws_df_path,\n",
    "                            caws_labels_path,\n",
    "                            hand_labeled_caws_df_path\n",
    "                           )"
   ]
  },
  {
   "cell_type": "code",
   "execution_count": 5,
   "id": "b81012e2",
   "metadata": {},
   "outputs": [
    {
     "data": {
      "text/html": [
       "<div>\n",
       "<style scoped>\n",
       "    .dataframe tbody tr th:only-of-type {\n",
       "        vertical-align: middle;\n",
       "    }\n",
       "\n",
       "    .dataframe tbody tr th {\n",
       "        vertical-align: top;\n",
       "    }\n",
       "\n",
       "    .dataframe thead th {\n",
       "        text-align: right;\n",
       "    }\n",
       "</style>\n",
       "<table border=\"1\" class=\"dataframe\">\n",
       "  <thead>\n",
       "    <tr style=\"text-align: right;\">\n",
       "      <th></th>\n",
       "      <th>tokens</th>\n",
       "      <th>tags</th>\n",
       "    </tr>\n",
       "  </thead>\n",
       "  <tbody>\n",
       "    <tr>\n",
       "      <th>0</th>\n",
       "      <td>[нам, прописали, ,, так, мой, ребенок, сыпью, ...</td>\n",
       "      <td>[O, O, O, O, O, O, B-DI, I-DI, O, B-DI, I-DI, ...</td>\n",
       "    </tr>\n",
       "    <tr>\n",
       "      <th>1</th>\n",
       "      <td>[Пила, этот, препарат, для, повышения, иммунит...</td>\n",
       "      <td>[O, O, O, O, B-DI, I-DI, O, O, O, O]</td>\n",
       "    </tr>\n",
       "    <tr>\n",
       "      <th>2</th>\n",
       "      <td>[В, месяц, по, нескольку, раз, причем, со, все...</td>\n",
       "      <td>[O, O, O, O, O, O, O, O, O, O, O, B-DI, O, B-D...</td>\n",
       "    </tr>\n",
       "    <tr>\n",
       "      <th>3</th>\n",
       "      <td>[Хочу, с, Вами, поделиться, отзывом, о, средст...</td>\n",
       "      <td>[O, O, O, O, O, O, O, O, O, O, O, O, O, O, O, ...</td>\n",
       "    </tr>\n",
       "    <tr>\n",
       "      <th>4</th>\n",
       "      <td>[Как, только, мой, муж, видит, признаки, прост...</td>\n",
       "      <td>[O, O, O, O, O, O, B-DI, O, O, O, O, O, O, O, O]</td>\n",
       "    </tr>\n",
       "    <tr>\n",
       "      <th>...</th>\n",
       "      <td>...</td>\n",
       "      <td>...</td>\n",
       "    </tr>\n",
       "    <tr>\n",
       "      <th>1567</th>\n",
       "      <td>[Скажите, пожалуйста, ,, что, делать, если, те...</td>\n",
       "      <td>[O, O, O, O, O, O, O, O, O, O, O, B-DI, I-DI, ...</td>\n",
       "    </tr>\n",
       "    <tr>\n",
       "      <th>1568</th>\n",
       "      <td>[Корова, не, встает, на, задние, ноги, ., Что,...</td>\n",
       "      <td>[O, B-DI, I-DI, I-DI, I-DI, I-DI, O, O, O, O]</td>\n",
       "    </tr>\n",
       "    <tr>\n",
       "      <th>1569</th>\n",
       "      <td>[У, телят, текут, белые, сопли, ,, что, это, т...</td>\n",
       "      <td>[O, O, O, B-DI, I-DI, O, O, O, O, O, O, O, O]</td>\n",
       "    </tr>\n",
       "    <tr>\n",
       "      <th>1570</th>\n",
       "      <td>[У, быка, заболели, ноги, ,, как-то, так, резк...</td>\n",
       "      <td>[O, O, B-DI, I-DI, O, O, O, O, O, O, O, O, O, ...</td>\n",
       "    </tr>\n",
       "    <tr>\n",
       "      <th>1571</th>\n",
       "      <td>[Добрый, день, ., Корове, два, года, ., Первый...</td>\n",
       "      <td>[O, O, O, O, O, O, O, O, O, O, O, O, O, O, O, ...</td>\n",
       "    </tr>\n",
       "  </tbody>\n",
       "</table>\n",
       "<p>1572 rows × 2 columns</p>\n",
       "</div>"
      ],
      "text/plain": [
       "                                                 tokens  \\\n",
       "0     [нам, прописали, ,, так, мой, ребенок, сыпью, ...   \n",
       "1     [Пила, этот, препарат, для, повышения, иммунит...   \n",
       "2     [В, месяц, по, нескольку, раз, причем, со, все...   \n",
       "3     [Хочу, с, Вами, поделиться, отзывом, о, средст...   \n",
       "4     [Как, только, мой, муж, видит, признаки, прост...   \n",
       "...                                                 ...   \n",
       "1567  [Скажите, пожалуйста, ,, что, делать, если, те...   \n",
       "1568  [Корова, не, встает, на, задние, ноги, ., Что,...   \n",
       "1569  [У, телят, текут, белые, сопли, ,, что, это, т...   \n",
       "1570  [У, быка, заболели, ноги, ,, как-то, так, резк...   \n",
       "1571  [Добрый, день, ., Корове, два, года, ., Первый...   \n",
       "\n",
       "                                                   tags  \n",
       "0     [O, O, O, O, O, O, B-DI, I-DI, O, B-DI, I-DI, ...  \n",
       "1                  [O, O, O, O, B-DI, I-DI, O, O, O, O]  \n",
       "2     [O, O, O, O, O, O, O, O, O, O, O, B-DI, O, B-D...  \n",
       "3     [O, O, O, O, O, O, O, O, O, O, O, O, O, O, O, ...  \n",
       "4      [O, O, O, O, O, O, B-DI, O, O, O, O, O, O, O, O]  \n",
       "...                                                 ...  \n",
       "1567  [O, O, O, O, O, O, O, O, O, O, O, B-DI, I-DI, ...  \n",
       "1568      [O, B-DI, I-DI, I-DI, I-DI, I-DI, O, O, O, O]  \n",
       "1569      [O, O, O, B-DI, I-DI, O, O, O, O, O, O, O, O]  \n",
       "1570  [O, O, B-DI, I-DI, O, O, O, O, O, O, O, O, O, ...  \n",
       "1571  [O, O, O, O, O, O, O, O, O, O, O, O, O, O, O, ...  \n",
       "\n",
       "[1572 rows x 2 columns]"
      ]
     },
     "execution_count": 5,
     "metadata": {},
     "output_type": "execute_result"
    }
   ],
   "source": [
    "medner_data.get_medical_data()"
   ]
  },
  {
   "cell_type": "code",
   "execution_count": 6,
   "id": "4fef8b13",
   "metadata": {},
   "outputs": [
    {
     "data": {
      "text/plain": [
       "'В месяц по нескольку раз причем со всеми вытекающими симптомами : кашель , боль горле , насморк .'"
      ]
     },
     "execution_count": 6,
     "metadata": {},
     "output_type": "execute_result"
    }
   ],
   "source": [
    "\" \".join(medner_data[2]['tokens'])"
   ]
  },
  {
   "cell_type": "markdown",
   "id": "8da02143",
   "metadata": {},
   "source": [
    "#### Simple visualization "
   ]
  },
  {
   "cell_type": "code",
   "execution_count": 7,
   "id": "e7d8512c",
   "metadata": {},
   "outputs": [],
   "source": [
    "# def render_annotations(medner_data: MednerDataset, index=None, random=True) -> None:\n",
    "#     colors = {\"Annotation\" :\"linear-gradient(90deg, #aa9cfc, #fc9ce7)\" } \n",
    "#     options = {\"colors\": colors}\n",
    "\n",
    "#     text = medner_data.hand_labeled_caws_df['data'].iloc[index]['text']\n",
    "#     annotations = medner_data.hand_labeled_caws_df['annotations'].iloc[index][0]['result']\n",
    "\n",
    "#     ents = []\n",
    "#     for annotation in annotations:\n",
    "#         annotation = annotation['value']\n",
    "\n",
    "#         ents.append({\n",
    "#             'start': annotation['start'],\n",
    "#             'end': annotation['end'],\n",
    "#             'label': \"Symptom\"\n",
    "#         })\n",
    "\n",
    "#     doc = {'text': text, 'ents': ents}\n",
    "\n",
    "#     spacy.displacy.render(doc, style=\"ent\", options = options , manual=True)"
   ]
  },
  {
   "cell_type": "code",
   "execution_count": 8,
   "id": "58c4eb0b",
   "metadata": {
    "scrolled": true
   },
   "outputs": [],
   "source": [
    "# render_annotations(ds, 25)"
   ]
  }
 ],
 "metadata": {
  "kernelspec": {
   "display_name": "Python 3 (ipykernel)",
   "language": "python",
   "name": "python3"
  },
  "language_info": {
   "codemirror_mode": {
    "name": "ipython",
    "version": 3
   },
   "file_extension": ".py",
   "mimetype": "text/x-python",
   "name": "python",
   "nbconvert_exporter": "python",
   "pygments_lexer": "ipython3",
   "version": "3.10.7"
  }
 },
 "nbformat": 4,
 "nbformat_minor": 5
}
