{
 "cells": [
  {
   "cell_type": "code",
   "execution_count": 82,
   "id": "dc8e08b4",
   "metadata": {},
   "outputs": [],
   "source": [
    "import pandas as pd\n",
    "import numpy as np\n",
    "import spacy\n",
    "import warnings\n",
    "from corus import load_rudrec\n",
    "warnings.filterwarnings(\"ignore\")"
   ]
  },
  {
   "cell_type": "code",
   "execution_count": 83,
   "id": "fa4fdf0c",
   "metadata": {},
   "outputs": [
    {
     "name": "stdout",
     "output_type": "stream",
     "text": [
      "The autoreload extension is already loaded. To reload it, use:\n",
      "  %reload_ext autoreload\n"
     ]
    }
   ],
   "source": [
    "%load_ext autoreload\n",
    "%autoreload 2"
   ]
  },
  {
   "cell_type": "markdown",
   "id": "94470483",
   "metadata": {},
   "source": [
    "#### Load data "
   ]
  },
  {
   "cell_type": "code",
   "execution_count": 113,
   "id": "b2e9c057",
   "metadata": {},
   "outputs": [],
   "source": [
    "drugs = list(load_rudrec('data/rudrec_annotated.json'))"
   ]
  },
  {
   "cell_type": "code",
   "execution_count": 91,
   "id": "157f1d44",
   "metadata": {},
   "outputs": [],
   "source": [
    "caws_df = pd.read_csv('data/train/train.csv')"
   ]
  },
  {
   "cell_type": "code",
   "execution_count": 92,
   "id": "6e71cab3",
   "metadata": {},
   "outputs": [],
   "source": [
    "caws_labels = pd.read_json('data/train/train_labels.json').T"
   ]
  },
  {
   "cell_type": "code",
   "execution_count": 93,
   "id": "bb91ee13",
   "metadata": {},
   "outputs": [],
   "source": [
    "hand_labeled_caws_df = pd.read_json('data/labeled_by_hand_version_2.json')\n",
    "\n",
    "hand_labeled_caws_df['id'] = hand_labeled_caws_df['id'] - np.ones(len(hand_labeled_caws_df['id']))\n",
    "hand_labeled_caws_df['id'] = hand_labeled_caws_df['id'].astype(int)\n",
    "\n",
    "hand_labeled_caws_df = hand_labeled_caws_df.drop([0, 239])"
   ]
  },
  {
   "cell_type": "markdown",
   "id": "2050beff",
   "metadata": {},
   "source": [
    "#### Simple visualization "
   ]
  },
  {
   "cell_type": "code",
   "execution_count": 94,
   "id": "e7d8512c",
   "metadata": {},
   "outputs": [],
   "source": [
    "def render_annotations(index):\n",
    "    colors = {\"Annotation\" :\"linear-gradient(90deg, #aa9cfc, #fc9ce7)\" } \n",
    "    options = {\"colors\": colors}\n",
    "    \n",
    "    text = labeled_by_hand_df['data'].iloc[index]['text']\n",
    "    annotations = labeled_by_hand_df['annotations'].iloc[index][0]['result']\n",
    "    \n",
    "    ents = []\n",
    "    for annotation in annotations:\n",
    "        annotation = annotation['value']\n",
    "        \n",
    "        ents.append({\n",
    "            'start': annotation['start'],\n",
    "            'end': annotation['end'],\n",
    "            'label': \"Symptom\"\n",
    "        })\n",
    "    \n",
    "    doc = {'text': text, 'ents': ents}\n",
    "    \n",
    "    spacy.displacy.render(doc, style=\"ent\", options = options , manual=True)"
   ]
  },
  {
   "cell_type": "code",
   "execution_count": 102,
   "id": "58c4eb0b",
   "metadata": {},
   "outputs": [
    {
     "data": {
      "text/html": [
       "<span class=\"tex2jax_ignore\"><div class=\"entities\" style=\"line-height: 2.5; direction: ltr\">всем привет,корова сегодня отелилась \n",
       "<mark class=\"entity\" style=\"background: #ddd; padding: 0.45em 0.6em; margin: 0 0.25em; line-height: 1; border-radius: 0.35em;\">\n",
       "    отек вымени\n",
       "    <span style=\"font-size: 0.8em; font-weight: bold; line-height: 1; border-radius: 0.35em; vertical-align: middle; margin-left: 0.5rem\">Symptom</span>\n",
       "</mark>\n",
       " нужно ли уберать? или сдаивать пощаще,подскажите пожалуйста</div></span>"
      ],
      "text/plain": [
       "<IPython.core.display.HTML object>"
      ]
     },
     "metadata": {},
     "output_type": "display_data"
    }
   ],
   "source": [
    "render_annotations(0)"
   ]
  },
  {
   "cell_type": "markdown",
   "id": "ca587e4d",
   "metadata": {},
   "source": [
    "#### Collate data "
   ]
  },
  {
   "cell_type": "code",
   "execution_count": 103,
   "id": "5a49b0b3",
   "metadata": {},
   "outputs": [],
   "source": [
    "from data_collator import process_rudrec, process_caws"
   ]
  },
  {
   "cell_type": "code",
   "execution_count": 106,
   "id": "7d129871",
   "metadata": {},
   "outputs": [],
   "source": [
    "rudrec_data = process_rudrec(drugs)"
   ]
  },
  {
   "cell_type": "code",
   "execution_count": 108,
   "id": "5065f33d",
   "metadata": {},
   "outputs": [],
   "source": [
    "caws_data = process_caws(caws_df, caws_labels, hand_labeled_caws_df)"
   ]
  },
  {
   "cell_type": "code",
   "execution_count": 110,
   "id": "3ca18208",
   "metadata": {},
   "outputs": [],
   "source": [
    "medical_data = rudrec_data + caws_data"
   ]
  },
  {
   "cell_type": "code",
   "execution_count": 111,
   "id": "56a600d5",
   "metadata": {},
   "outputs": [],
   "source": [
    "medical_df = pd.DataFrame(medical_data)"
   ]
  },
  {
   "cell_type": "code",
   "execution_count": 112,
   "id": "b05b2079",
   "metadata": {},
   "outputs": [
    {
     "data": {
      "text/html": [
       "<div>\n",
       "<style scoped>\n",
       "    .dataframe tbody tr th:only-of-type {\n",
       "        vertical-align: middle;\n",
       "    }\n",
       "\n",
       "    .dataframe tbody tr th {\n",
       "        vertical-align: top;\n",
       "    }\n",
       "\n",
       "    .dataframe thead th {\n",
       "        text-align: right;\n",
       "    }\n",
       "</style>\n",
       "<table border=\"1\" class=\"dataframe\">\n",
       "  <thead>\n",
       "    <tr style=\"text-align: right;\">\n",
       "      <th></th>\n",
       "      <th>tokens</th>\n",
       "      <th>tags</th>\n",
       "    </tr>\n",
       "  </thead>\n",
       "  <tbody>\n",
       "    <tr>\n",
       "      <th>0</th>\n",
       "      <td>[нам, прописали, ,, так, мой, ребенок, сыпью, ...</td>\n",
       "      <td>[O, O, O, O, O, O, B-ADR, I-ADR, O, B-ADR, I-A...</td>\n",
       "    </tr>\n",
       "    <tr>\n",
       "      <th>1</th>\n",
       "      <td>[Пила, этот, препарат, для, повышения, иммунит...</td>\n",
       "      <td>[O, O, O, O, B-DI, I-DI, O, O, O, O]</td>\n",
       "    </tr>\n",
       "    <tr>\n",
       "      <th>2</th>\n",
       "      <td>[В, месяц, по, нескольку, раз, причем, со, все...</td>\n",
       "      <td>[O, O, O, O, O, O, O, O, O, O, O, B-DI, O, B-D...</td>\n",
       "    </tr>\n",
       "    <tr>\n",
       "      <th>3</th>\n",
       "      <td>[Хочу, с, Вами, поделиться, отзывом, о, средст...</td>\n",
       "      <td>[O, O, O, O, O, O, O, O, O, O, O, O, O, O, O, ...</td>\n",
       "    </tr>\n",
       "    <tr>\n",
       "      <th>4</th>\n",
       "      <td>[Как, только, мой, муж, видит, признаки, прост...</td>\n",
       "      <td>[O, O, O, O, O, O, B-DI, O, O, O, O, O, O, O, O]</td>\n",
       "    </tr>\n",
       "    <tr>\n",
       "      <th>...</th>\n",
       "      <td>...</td>\n",
       "      <td>...</td>\n",
       "    </tr>\n",
       "    <tr>\n",
       "      <th>1567</th>\n",
       "      <td>[Скажите, пожалуйста, ,, что, делать, если, те...</td>\n",
       "      <td>[O, O, O, O, O, O, O, O, O, O, O, B-DI, I-DI, ...</td>\n",
       "    </tr>\n",
       "    <tr>\n",
       "      <th>1568</th>\n",
       "      <td>[Корова, не, встает, на, задние, ноги, ., Что,...</td>\n",
       "      <td>[O, B-DI, I-DI, I-DI, I-DI, I-DI, O, O, O, O]</td>\n",
       "    </tr>\n",
       "    <tr>\n",
       "      <th>1569</th>\n",
       "      <td>[У, телят, текут, белые, сопли, ,, что, это, т...</td>\n",
       "      <td>[O, O, O, B-DI, I-DI, O, O, O, O, O, O, O, O]</td>\n",
       "    </tr>\n",
       "    <tr>\n",
       "      <th>1570</th>\n",
       "      <td>[У, быка, заболели, ноги, ,, как-то, так, резк...</td>\n",
       "      <td>[O, O, B-DI, I-DI, O, O, O, O, O, O, O, O, O, ...</td>\n",
       "    </tr>\n",
       "    <tr>\n",
       "      <th>1571</th>\n",
       "      <td>[Добрый, день, ., Корове, два, года, ., Первый...</td>\n",
       "      <td>[O, O, O, O, O, O, O, O, O, O, O, O, O, O, O, ...</td>\n",
       "    </tr>\n",
       "  </tbody>\n",
       "</table>\n",
       "<p>1572 rows × 2 columns</p>\n",
       "</div>"
      ],
      "text/plain": [
       "                                                 tokens  \\\n",
       "0     [нам, прописали, ,, так, мой, ребенок, сыпью, ...   \n",
       "1     [Пила, этот, препарат, для, повышения, иммунит...   \n",
       "2     [В, месяц, по, нескольку, раз, причем, со, все...   \n",
       "3     [Хочу, с, Вами, поделиться, отзывом, о, средст...   \n",
       "4     [Как, только, мой, муж, видит, признаки, прост...   \n",
       "...                                                 ...   \n",
       "1567  [Скажите, пожалуйста, ,, что, делать, если, те...   \n",
       "1568  [Корова, не, встает, на, задние, ноги, ., Что,...   \n",
       "1569  [У, телят, текут, белые, сопли, ,, что, это, т...   \n",
       "1570  [У, быка, заболели, ноги, ,, как-то, так, резк...   \n",
       "1571  [Добрый, день, ., Корове, два, года, ., Первый...   \n",
       "\n",
       "                                                   tags  \n",
       "0     [O, O, O, O, O, O, B-ADR, I-ADR, O, B-ADR, I-A...  \n",
       "1                  [O, O, O, O, B-DI, I-DI, O, O, O, O]  \n",
       "2     [O, O, O, O, O, O, O, O, O, O, O, B-DI, O, B-D...  \n",
       "3     [O, O, O, O, O, O, O, O, O, O, O, O, O, O, O, ...  \n",
       "4      [O, O, O, O, O, O, B-DI, O, O, O, O, O, O, O, O]  \n",
       "...                                                 ...  \n",
       "1567  [O, O, O, O, O, O, O, O, O, O, O, B-DI, I-DI, ...  \n",
       "1568      [O, B-DI, I-DI, I-DI, I-DI, I-DI, O, O, O, O]  \n",
       "1569      [O, O, O, B-DI, I-DI, O, O, O, O, O, O, O, O]  \n",
       "1570  [O, O, B-DI, I-DI, O, O, O, O, O, O, O, O, O, ...  \n",
       "1571  [O, O, O, O, O, O, O, O, O, O, O, O, O, O, O, ...  \n",
       "\n",
       "[1572 rows x 2 columns]"
      ]
     },
     "execution_count": 112,
     "metadata": {},
     "output_type": "execute_result"
    }
   ],
   "source": [
    "medical_df"
   ]
  }
 ],
 "metadata": {
  "kernelspec": {
   "display_name": "Python 3 (ipykernel)",
   "language": "python",
   "name": "python3"
  },
  "language_info": {
   "codemirror_mode": {
    "name": "ipython",
    "version": 3
   },
   "file_extension": ".py",
   "mimetype": "text/x-python",
   "name": "python",
   "nbconvert_exporter": "python",
   "pygments_lexer": "ipython3",
   "version": "3.10.7"
  }
 },
 "nbformat": 4,
 "nbformat_minor": 5
}
